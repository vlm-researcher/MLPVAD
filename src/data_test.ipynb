{
 "cells": [
  {
   "cell_type": "code",
   "execution_count": null,
   "id": "4fd212ad",
   "metadata": {},
   "outputs": [],
   "source": [
    "import numpy as np\n",
    "import pandas as pd\n",
    "import os\n",
    "import shutil"
   ]
  },
  {
   "cell_type": "code",
   "execution_count": null,
   "id": "43c38e50",
   "metadata": {},
   "outputs": [],
   "source": [
    "data= np.load('/home/username/VadCLIP/list/gt_ucf.npy')"
   ]
  },
  {
   "cell_type": "code",
   "execution_count": null,
   "id": "f9013184",
   "metadata": {},
   "outputs": [],
   "source": [
    "data.shape"
   ]
  },
  {
   "cell_type": "code",
   "execution_count": null,
   "id": "d00303c2",
   "metadata": {},
   "outputs": [],
   "source": [
    "data.shape"
   ]
  },
  {
   "cell_type": "code",
   "execution_count": null,
   "id": "f60b0a5b",
   "metadata": {},
   "outputs": [],
   "source": [
    "data_1= np.load('/home/username/VadCLIP/save/UCFClipFeatures/From ViT14/lavis_saved_img_features/Explosion007_x264.npy')"
   ]
  },
  {
   "cell_type": "code",
   "execution_count": null,
   "id": "15551737",
   "metadata": {},
   "outputs": [],
   "source": [
    "data_1.shape"
   ]
  },
  {
   "cell_type": "code",
   "execution_count": null,
   "id": "62910972",
   "metadata": {},
   "outputs": [],
   "source": [
    "df=pd.read_csv(\"/home/username/VadCLIP/list/ucf_CLIP_rgb.csv\")"
   ]
  },
  {
   "cell_type": "code",
   "execution_count": null,
   "id": "87d9bc25",
   "metadata": {},
   "outputs": [],
   "source": [
    "root_path=\"/home/username/VadCLIP/save/UCFClipFeatures/From ViT14/\"\n",
    "source_folder = \"lavis_saved_img_features\"  # your source folder\n",
    "\n",
    "# Get list of class folders\n",
    "class_folders = [\n",
    "    'Abuse', 'Arrest', 'Arson', 'Assault', 'Burglary',\n",
    "    'Explosion', 'Fighting', 'Normal', 'RoadAccidents', 'Robbery',\n",
    "    'Shooting', 'Shoplifting', 'Stealing', 'Vandalism'\n",
    "]\n",
    "\n",
    "# List all files in the source folder\n",
    "files = os.listdir(os.path.join(root_path,source_folder))\n",
    "print(\"Number of files to copy: \", len(files))\n",
    "for file_name in files:\n",
    "    # Skip if not a .npy file\n",
    "    if not file_name.endswith('.npy'):\n",
    "        continue\n",
    "    \n",
    "    # Find the class name that matches the file name\n",
    "    matched_class = None\n",
    "    for class_name in class_folders:\n",
    "        if file_name.startswith(class_name):\n",
    "            matched_class = class_name\n",
    "            break\n",
    "    \n",
    "    if matched_class:\n",
    "        source_path = os.path.join(root_path, source_folder, file_name)\n",
    "        dest_path = os.path.join(root_path, matched_class, file_name)\n",
    "        \n",
    "        # Move the file\n",
    "        shutil.copy(source_path, dest_path)\n",
    "        print(f\"Moved {file_name} -> {matched_class}\")\n",
    "    else:\n",
    "        print(f\"No matching class for {file_name}, skipping.\")"
   ]
  },
  {
   "cell_type": "code",
   "execution_count": null,
   "id": "ace5af6c",
   "metadata": {},
   "outputs": [],
   "source": [
    "import os\n",
    "import csv\n",
    "\n",
    "# Define paths\n",
    "base_dir = '/home/username/VadCLIP/save/UCFClipFeatures/From ViT14/lavis_saved_img_features'  # update to your base path\n",
    "class_folders = [\n",
    "    'Abuse', 'Arrest', 'Arson', 'Assault', 'Burglary',\n",
    "    'Explosion', 'Fighting', 'Normal', 'RoadAccidents', 'Robbery',\n",
    "    'Shooting', 'Shoplifting', 'Stealing', 'Vandalism'\n",
    "]\n",
    "\n",
    "# Output CSV path\n",
    "csv_output_path = 'gt_test.csv'\n",
    "\n",
    "# Collect data\n",
    "rows = []\n",
    "for class_name in class_folders:\n",
    "    class_dir = os.path.join(base_dir, class_name)\n",
    "    if not os.path.exists(class_dir):\n",
    "        continue  # skip if folder doesn't exist\n",
    "    \n",
    "    for file_name in os.listdir(class_dir):\n",
    "        if file_name.endswith('.npy'):\n",
    "            full_path = os.path.join(class_dir, file_name)\n",
    "            rows.append([full_path, class_name])\n",
    "\n",
    "# Write to CSV\n",
    "with open(csv_output_path, mode='w', newline='') as csv_file:\n",
    "    writer = csv.writer(csv_file)\n",
    "    writer.writerow(['path', 'label'])  # header\n",
    "    writer.writerows(rows)\n",
    "\n",
    "print(f\"CSV file created: {csv_output_path} with {len(rows)} entries.\")"
   ]
  },
  {
   "cell_type": "code",
   "execution_count": null,
   "id": "3c32abb3",
   "metadata": {},
   "outputs": [],
   "source": [
    "root_path=\"/home/username/VadCLIP/save/UCFClipFeatures/From ViT14/\"\n",
    "source_folder = \"lavis_saved_img_features\"  # your source folder\n",
    "files = os.listdir(os.path.join(root_path,source_folder))\n",
    "print(\"Number of files to copy: \", len(files))\n",
    "for file_name in files:\n",
    "    print(\"Filename: \", file_name)\n",
    "    data= np.load(os.path.join(root_path, source_folder, file_name))\n",
    "    data= data[:-1]\n",
    "    print(data.shape)"
   ]
  },
  {
   "cell_type": "code",
   "execution_count": 113,
   "id": "ac1e9f2e",
   "metadata": {},
   "outputs": [],
   "source": [
    "def match_and_save(src_path, dest_path, save_path):\n",
    "    # Load arrays\n",
    "    src = np.load(src_path)\n",
    "    dest = np.load(dest_path)\n",
    "\n",
    "    src_len = src.shape[0]\n",
    "    dest_len = dest.shape[0]\n",
    "\n",
    "    print(f\"Processing {src_path}: src_len={src_len}, dest_len={dest_len}\")\n",
    "\n",
    "    if src_len < dest_len:\n",
    "        # Need to pad\n",
    "        num_to_add = dest_len - src_len\n",
    "        last_row = src[-1:]  # keep dims\n",
    "        padding = np.repeat(last_row, num_to_add, axis=0)\n",
    "        new_src = np.concatenate([src, padding], axis=0)\n",
    "        print(f\"Padded by {num_to_add} rows.\")\n",
    "    elif src_len > dest_len:\n",
    "        # Need to truncate\n",
    "        new_src = src[:dest_len]\n",
    "        print(f\"Truncated from {src_len} to {dest_len}.\")\n",
    "    else:\n",
    "        # Already matched\n",
    "        new_src = src\n",
    "        print(\"No change needed.\")\n",
    "\n",
    "    # Save the new src\n",
    "    # np.save(save_path, new_src)\n",
    "    # print(f\"Saved matched array to {save_path}, shape: {new_src.shape}\")"
   ]
  },
  {
   "cell_type": "code",
   "execution_count": null,
   "id": "ee3df479",
   "metadata": {},
   "outputs": [],
   "source": [
    "df_src = pd.read_csv(\"/home/username/VadCLIP/list/ucf_CLIP_rgbtest_vit14.csv\")\n",
    "df_dst = pd.read_csv(\"/home/username/VadCLIP/list/ucf_CLIP_rgbtest_vit16.csv\")\n",
    "new_src = \"\"\n",
    "files_src= df_src['path']\n",
    "files_dst= df_dst['path']\n",
    "\n",
    "print(len(files_src) , len(files_dst))\n",
    "for src, dest in zip(files_src, files_dst):\n",
    "    match_and_save(src, dest, src)\n"
   ]
  },
  {
   "cell_type": "code",
   "execution_count": null,
   "id": "d7d01685",
   "metadata": {},
   "outputs": [],
   "source": []
  }
 ],
 "metadata": {
  "kernelspec": {
   "display_name": "vadclip",
   "language": "python",
   "name": "python3"
  },
  "language_info": {
   "codemirror_mode": {
    "name": "ipython",
    "version": 3
   },
   "file_extension": ".py",
   "mimetype": "text/x-python",
   "name": "python",
   "nbconvert_exporter": "python",
   "pygments_lexer": "ipython3",
   "version": "3.10.0"
  }
 },
 "nbformat": 4,
 "nbformat_minor": 5
}
